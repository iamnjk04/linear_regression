{
 "cells": [
  {
   "cell_type": "code",
   "execution_count": 33,
   "id": "c51949bd",
   "metadata": {},
   "outputs": [],
   "source": [
    "import numpy as np\n",
    "import matplotlib.pyplot as plt"
   ]
  },
  {
   "cell_type": "code",
   "execution_count": 34,
   "id": "3afb55d4",
   "metadata": {},
   "outputs": [],
   "source": [
    "data = np.loadtxt(\"data.txt\", delimiter = \",\")"
   ]
  },
  {
   "cell_type": "code",
   "execution_count": 35,
   "id": "8262cf4c",
   "metadata": {},
   "outputs": [
    {
     "name": "stdout",
     "output_type": "stream",
     "text": [
      "(45, 2)\n",
      "(45, 1)\n"
     ]
    }
   ],
   "source": [
    "X = data[:, 0]\n",
    "Y = data[:, 1].reshape(X.size, 1)\n",
    "X = np.vstack((np.ones((X.size,)), X)).T\n",
    "\n",
    "print(X.shape)\n",
    "print(Y.shape)"
   ]
  },
  {
   "cell_type": "code",
   "execution_count": 36,
   "id": "9b1fd880",
   "metadata": {},
   "outputs": [
    {
     "data": {
      "image/png": "[encoded data removed]",
      "text/plain": [
       "<Figure size 432x288 with 1 Axes>"
      ]
     },
     "metadata": {
      "needs_background": "light"
     },
     "output_type": "display_data"
    }
   ],
   "source": [
    "plt.scatter(X[:, 1], Y)\n",
    "plt.show()"
   ]
  },
  {
   "cell_type": "code",
   "execution_count": 48,
   "id": "c1a6a10e",
   "metadata": {},
   "outputs": [],
   "source": [
    "def model(X, Y, learning_rate, iteration):\n",
    "    m = Y.size\n",
    "    theta = np.zeros((2, 1))\n",
    "    cost_list = []\n",
    "    \n",
    "    for i in range(iteration):\n",
    "        y_pred = np.dot(X, theta)\n",
    "        cost = (1/(2*m))*np.sum(np.square(y_pred - Y))\n",
    "        \n",
    "        d_theta = (1/m)*np.dot(X.T, y_pred - Y)\n",
    "        theta = theta - learning_rate*d_theta\n",
    "        \n",
    "        cost_list.append(cost)\n",
    "        \n",
    "    return theta, cost_list"
   ]
  },
  {
   "cell_type": "code",
   "execution_count": 49,
   "id": "33098d77",
   "metadata": {},
   "outputs": [],
   "source": [
    "iteration = 100\n",
    "learning_rate = 0.00000005\n",
    "\n",
    "theta, cost_list = model(X, Y, learning_rate = learning_rate,\n",
    "iteration = iteration)"
   ]
  },
  {
   "cell_type": "code",
   "execution_count": 53,
   "id": "c9a0b0ff",
   "metadata": {},
   "outputs": [
    {
     "name": "stdout",
     "output_type": "stream",
     "text": [
      "Our model predicts the price of house with 1547 sq. ft. area as : $ 153759.0\n",
      "Our model predicts the price of house with 1896 sq. ft. area as : $ 188446.7\n",
      "Our model predicts the price of house with 1934 sq. ft. area as : $ 192223.59\n",
      "Our model predicts the price of house with 2800 sq. ft. area as : $ 278296.8\n",
      "Our model predicts the price of house with 3400 sq. ft. area as : $ 337931.81\n",
      "Our model predicts the price of house with 5000 sq. ft. area as : $ 496958.52\n"
     ]
    }
   ],
   "source": [
    "new_houses = np.array([[1, 1547], [1, 1896], [1, 1934], [1,2800], [1, 3400], [1, 5000]])\n",
    "for house in new_houses :\n",
    " print(\"Our model predicts the price of house with\",house[1], \"sq. ft. area as : $\", round(np.dot(house, theta)[0],2))"
   ]
  },
  {
   "cell_type": "code",
   "execution_count": 51,
   "id": "0a675c7f",
   "metadata": {},
   "outputs": [
    {
     "data": {
      "image/png": "[encoded data removed]",
      "text/plain": [
       "<Figure size 432x288 with 1 Axes>"
      ]
     },
     "metadata": {
      "needs_background": "light"
     },
     "output_type": "display_data"
    }
   ],
   "source": [
    "rng = np.arange(0, iteration)\n",
    "plt.plot(cost_list, rng)\n",
    "plt.show()"
   ]
  },
  {
   "cell_type": "code",
   "execution_count": null,
   "id": "e0831b70",
   "metadata": {},
   "outputs": [],
   "source": []
  }
 ],
 "metadata": {
  "kernelspec": {
   "display_name": "Python 3 (ipykernel)",
   "language": "python",
   "name": "python3"
  },
  "language_info": {
   "codemirror_mode": {
    "name": "ipython",
    "version": 3
   },
   "file_extension": ".py",
   "mimetype": "text/x-python",
   "name": "python",
   "nbconvert_exporter": "python",
   "pygments_lexer": "ipython3",
   "version": "3.9.7"
  }
 },
 "nbformat": 4,
 "nbformat_minor": 5
}
